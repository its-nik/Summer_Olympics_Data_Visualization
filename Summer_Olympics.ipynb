{
  "nbformat": 4,
  "nbformat_minor": 0,
  "metadata": {
    "colab": {
      "name": "Summer Olympics.ipynb",
      "provenance": []
    },
    "kernelspec": {
      "name": "python3",
      "display_name": "Python 3"
    },
    "language_info": {
      "name": "python"
    }
  },
  "cells": [
    {
      "cell_type": "code",
      "metadata": {
        "id": "SlRyV4rtTpaL"
      },
      "source": [
        "import pandas as pd\n"
      ],
      "execution_count": 69,
      "outputs": []
    },
    {
      "cell_type": "code",
      "metadata": {
        "id": "dsRX-W08UEaQ"
      },
      "source": [
        "df = pd.read_csv('summer.csv')"
      ],
      "execution_count": 70,
      "outputs": []
    },
    {
      "cell_type": "code",
      "metadata": {
        "colab": {
          "base_uri": "https://localhost:8080/",
          "height": 417
        },
        "id": "DSSa1KF2UMQq",
        "outputId": "30aa8e30-bb8d-413b-aa59-8d796198d30d"
      },
      "source": [
        "df"
      ],
      "execution_count": 71,
      "outputs": [
        {
          "output_type": "execute_result",
          "data": {
            "text/html": [
              "<div>\n",
              "<style scoped>\n",
              "    .dataframe tbody tr th:only-of-type {\n",
              "        vertical-align: middle;\n",
              "    }\n",
              "\n",
              "    .dataframe tbody tr th {\n",
              "        vertical-align: top;\n",
              "    }\n",
              "\n",
              "    .dataframe thead th {\n",
              "        text-align: right;\n",
              "    }\n",
              "</style>\n",
              "<table border=\"1\" class=\"dataframe\">\n",
              "  <thead>\n",
              "    <tr style=\"text-align: right;\">\n",
              "      <th></th>\n",
              "      <th>Year</th>\n",
              "      <th>City</th>\n",
              "      <th>Sport</th>\n",
              "      <th>Discipline</th>\n",
              "      <th>Athlete</th>\n",
              "      <th>Country</th>\n",
              "      <th>Gender</th>\n",
              "      <th>Event</th>\n",
              "      <th>Medal</th>\n",
              "    </tr>\n",
              "  </thead>\n",
              "  <tbody>\n",
              "    <tr>\n",
              "      <th>0</th>\n",
              "      <td>1896</td>\n",
              "      <td>Athens</td>\n",
              "      <td>Aquatics</td>\n",
              "      <td>Swimming</td>\n",
              "      <td>HAJOS, Alfred</td>\n",
              "      <td>HUN</td>\n",
              "      <td>Men</td>\n",
              "      <td>100M Freestyle</td>\n",
              "      <td>Gold</td>\n",
              "    </tr>\n",
              "    <tr>\n",
              "      <th>1</th>\n",
              "      <td>1896</td>\n",
              "      <td>Athens</td>\n",
              "      <td>Aquatics</td>\n",
              "      <td>Swimming</td>\n",
              "      <td>HERSCHMANN, Otto</td>\n",
              "      <td>AUT</td>\n",
              "      <td>Men</td>\n",
              "      <td>100M Freestyle</td>\n",
              "      <td>Silver</td>\n",
              "    </tr>\n",
              "    <tr>\n",
              "      <th>2</th>\n",
              "      <td>1896</td>\n",
              "      <td>Athens</td>\n",
              "      <td>Aquatics</td>\n",
              "      <td>Swimming</td>\n",
              "      <td>DRIVAS, Dimitrios</td>\n",
              "      <td>GRE</td>\n",
              "      <td>Men</td>\n",
              "      <td>100M Freestyle For Sailors</td>\n",
              "      <td>Bronze</td>\n",
              "    </tr>\n",
              "    <tr>\n",
              "      <th>3</th>\n",
              "      <td>1896</td>\n",
              "      <td>Athens</td>\n",
              "      <td>Aquatics</td>\n",
              "      <td>Swimming</td>\n",
              "      <td>MALOKINIS, Ioannis</td>\n",
              "      <td>GRE</td>\n",
              "      <td>Men</td>\n",
              "      <td>100M Freestyle For Sailors</td>\n",
              "      <td>Gold</td>\n",
              "    </tr>\n",
              "    <tr>\n",
              "      <th>4</th>\n",
              "      <td>1896</td>\n",
              "      <td>Athens</td>\n",
              "      <td>Aquatics</td>\n",
              "      <td>Swimming</td>\n",
              "      <td>CHASAPIS, Spiridon</td>\n",
              "      <td>GRE</td>\n",
              "      <td>Men</td>\n",
              "      <td>100M Freestyle For Sailors</td>\n",
              "      <td>Silver</td>\n",
              "    </tr>\n",
              "    <tr>\n",
              "      <th>...</th>\n",
              "      <td>...</td>\n",
              "      <td>...</td>\n",
              "      <td>...</td>\n",
              "      <td>...</td>\n",
              "      <td>...</td>\n",
              "      <td>...</td>\n",
              "      <td>...</td>\n",
              "      <td>...</td>\n",
              "      <td>...</td>\n",
              "    </tr>\n",
              "    <tr>\n",
              "      <th>31160</th>\n",
              "      <td>2012</td>\n",
              "      <td>London</td>\n",
              "      <td>Wrestling</td>\n",
              "      <td>Wrestling Freestyle</td>\n",
              "      <td>JANIKOWSKI, Damian</td>\n",
              "      <td>POL</td>\n",
              "      <td>Men</td>\n",
              "      <td>Wg 84 KG</td>\n",
              "      <td>Bronze</td>\n",
              "    </tr>\n",
              "    <tr>\n",
              "      <th>31161</th>\n",
              "      <td>2012</td>\n",
              "      <td>London</td>\n",
              "      <td>Wrestling</td>\n",
              "      <td>Wrestling Freestyle</td>\n",
              "      <td>REZAEI, Ghasem Gholamreza</td>\n",
              "      <td>IRI</td>\n",
              "      <td>Men</td>\n",
              "      <td>Wg 96 KG</td>\n",
              "      <td>Gold</td>\n",
              "    </tr>\n",
              "    <tr>\n",
              "      <th>31162</th>\n",
              "      <td>2012</td>\n",
              "      <td>London</td>\n",
              "      <td>Wrestling</td>\n",
              "      <td>Wrestling Freestyle</td>\n",
              "      <td>TOTROV, Rustam</td>\n",
              "      <td>RUS</td>\n",
              "      <td>Men</td>\n",
              "      <td>Wg 96 KG</td>\n",
              "      <td>Silver</td>\n",
              "    </tr>\n",
              "    <tr>\n",
              "      <th>31163</th>\n",
              "      <td>2012</td>\n",
              "      <td>London</td>\n",
              "      <td>Wrestling</td>\n",
              "      <td>Wrestling Freestyle</td>\n",
              "      <td>ALEKSANYAN, Artur</td>\n",
              "      <td>ARM</td>\n",
              "      <td>Men</td>\n",
              "      <td>Wg 96 KG</td>\n",
              "      <td>Bronze</td>\n",
              "    </tr>\n",
              "    <tr>\n",
              "      <th>31164</th>\n",
              "      <td>2012</td>\n",
              "      <td>London</td>\n",
              "      <td>Wrestling</td>\n",
              "      <td>Wrestling Freestyle</td>\n",
              "      <td>LIDBERG, Jimmy</td>\n",
              "      <td>SWE</td>\n",
              "      <td>Men</td>\n",
              "      <td>Wg 96 KG</td>\n",
              "      <td>Bronze</td>\n",
              "    </tr>\n",
              "  </tbody>\n",
              "</table>\n",
              "<p>31165 rows × 9 columns</p>\n",
              "</div>"
            ],
            "text/plain": [
              "       Year    City      Sport  ... Gender                       Event   Medal\n",
              "0      1896  Athens   Aquatics  ...    Men              100M Freestyle    Gold\n",
              "1      1896  Athens   Aquatics  ...    Men              100M Freestyle  Silver\n",
              "2      1896  Athens   Aquatics  ...    Men  100M Freestyle For Sailors  Bronze\n",
              "3      1896  Athens   Aquatics  ...    Men  100M Freestyle For Sailors    Gold\n",
              "4      1896  Athens   Aquatics  ...    Men  100M Freestyle For Sailors  Silver\n",
              "...     ...     ...        ...  ...    ...                         ...     ...\n",
              "31160  2012  London  Wrestling  ...    Men                    Wg 84 KG  Bronze\n",
              "31161  2012  London  Wrestling  ...    Men                    Wg 96 KG    Gold\n",
              "31162  2012  London  Wrestling  ...    Men                    Wg 96 KG  Silver\n",
              "31163  2012  London  Wrestling  ...    Men                    Wg 96 KG  Bronze\n",
              "31164  2012  London  Wrestling  ...    Men                    Wg 96 KG  Bronze\n",
              "\n",
              "[31165 rows x 9 columns]"
            ]
          },
          "metadata": {},
          "execution_count": 71
        }
      ]
    },
    {
      "cell_type": "markdown",
      "metadata": {
        "id": "pXJHAzI4auh4"
      },
      "source": [
        "# Q1 - In how many cities Summer Olympics is held so far?"
      ]
    },
    {
      "cell_type": "code",
      "metadata": {
        "colab": {
          "base_uri": "https://localhost:8080/"
        },
        "id": "1nnntukyayYk",
        "outputId": "f610bb1c-53d1-49c2-d2ee-6b633382a7e0"
      },
      "source": [
        "NumberOfCities = len(df['City'].unique())\n",
        "\n",
        "data = []\n",
        "\n",
        "for city in df['City'].unique():\n",
        "  data.append(city)\n",
        "\n",
        "print(\"The Olympics had been held in\", NumberOfCities, \"cities\")\n",
        "print(\"The 22 city names are as follows: \")\n",
        "print(data)"
      ],
      "execution_count": 72,
      "outputs": [
        {
          "output_type": "stream",
          "name": "stdout",
          "text": [
            "The Olympics had been held in 22 cities\n",
            "The 22 city names are as follows: \n",
            "['Athens', 'Paris', 'St Louis', 'London', 'Stockholm', 'Antwerp', 'Amsterdam', 'Los Angeles', 'Berlin', 'Helsinki', 'Melbourne / Stockholm', 'Rome', 'Tokyo', 'Mexico', 'Munich', 'Montreal', 'Moscow', 'Seoul', 'Barcelona', 'Atlanta', 'Sydney', 'Beijing']\n"
          ]
        }
      ]
    },
    {
      "cell_type": "markdown",
      "metadata": {
        "id": "HwPIoGlVbQdY"
      },
      "source": [
        "# Q2 - Which sport is having most number of Gold Medals so far? (Top 5)"
      ]
    },
    {
      "cell_type": "code",
      "metadata": {
        "colab": {
          "base_uri": "https://localhost:8080/",
          "height": 517
        },
        "id": "f7wK_5mubVsH",
        "outputId": "ed8f5610-78c6-45b6-954d-ee0422332e91"
      },
      "source": [
        "goldmedal = df[df['Medal'] == 'Gold']\n",
        "sports_data = []\n",
        "for sport in gold_medal['Sport'].unique():\n",
        "  sports_data.append([sport,len(gold_medal[gold_medal['Sport'] == sport])])\n",
        "\n",
        "sports_data = pd.DataFrame(sports,columns=['Sport','Gold_Medals'])\n",
        "sports_data = sports.sort_values(by ='Gold_Medals', ascending = False)\n",
        "\n",
        "print(\"Top 5 Sports with descending order of gold medals: \")\n",
        "print(sports)\n",
        "\n",
        "sports = sports.sort_values(by ='Gold_Medals', ascending = False).head()\n",
        "sports.plot(x ='Sport',y ='Gold_Medals',kind = 'bar',figsize =(10,5),color = 'gold')"
      ],
      "execution_count": 73,
      "outputs": [
        {
          "output_type": "stream",
          "name": "stdout",
          "text": [
            "Top 5 Sports with descending order of gold medals: \n",
            "         Sport  Gold_Medals\n",
            "0     Aquatics         1421\n",
            "1    Athletics         1215\n",
            "17      Rowing          890\n",
            "4   Gymnastics          820\n",
            "3      Fencing          552\n"
          ]
        },
        {
          "output_type": "execute_result",
          "data": {
            "text/plain": [
              "<matplotlib.axes._subplots.AxesSubplot at 0x7fa91eaa07d0>"
            ]
          },
          "metadata": {},
          "execution_count": 73
        },
        {
          "output_type": "display_data",
          "data": {
            "image/png": "[encoded data removed]",
            "text/plain": [
              "<Figure size 720x360 with 1 Axes>"
            ]
          },
          "metadata": {
            "needs_background": "light"
          }
        }
      ]
    },
    {
      "cell_type": "markdown",
      "metadata": {
        "id": "kmQOBdl0ezGS"
      },
      "source": [
        "# Q3 - Which sport is having most number of medals so far? (Top 5)"
      ]
    },
    {
      "cell_type": "code",
      "metadata": {
        "colab": {
          "base_uri": "https://localhost:8080/",
          "height": 471
        },
        "id": "REOMmKWGe7y1",
        "outputId": "f102ed2f-b6f6-4604-e0c1-79a1d80ef55a"
      },
      "source": [
        "most_medals = df.groupby('Sport').count()['Medal']\n",
        "\n",
        "top5 = most_medals.sort_values(ascending = False).head()\n",
        "print(top5)\n",
        "print(\"Plot of Top 5 Sports having most no. of Medals is as Follows:\\n\")\n",
        "\n",
        "top5.plot.pie(figsize =(10,5))"
      ],
      "execution_count": 74,
      "outputs": [
        {
          "output_type": "stream",
          "name": "stdout",
          "text": [
            "Sport\n",
            "Aquatics      4170\n",
            "Athletics     3638\n",
            "Rowing        2667\n",
            "Gymnastics    2307\n",
            "Fencing       1613\n",
            "Name: Medal, dtype: int64\n",
            "Plot of Top 5 Sports having most no. of Medals is as Follows:\n",
            "\n"
          ]
        },
        {
          "output_type": "execute_result",
          "data": {
            "text/plain": [
              "<matplotlib.axes._subplots.AxesSubplot at 0x7fa91eb9aa10>"
            ]
          },
          "metadata": {},
          "execution_count": 74
        },
        {
          "output_type": "display_data",
          "data": {
            "image/png": "[encoded data removed]",
            "text/plain": [
              "<Figure size 720x360 with 1 Axes>"
            ]
          },
          "metadata": {}
        }
      ]
    },
    {
      "cell_type": "markdown",
      "metadata": {
        "id": "X2ruXb_ogsd_"
      },
      "source": [
        "# Q4 - Which player has won most number of medals? (Top 5)"
      ]
    },
    {
      "cell_type": "code",
      "metadata": {
        "colab": {
          "base_uri": "https://localhost:8080/",
          "height": 471
        },
        "id": "55D5q12Dgtt6",
        "outputId": "271f4078-8a10-477e-d3d7-fcbffc9f23ad"
      },
      "source": [
        "players_won = df.groupby('Athlete').count()['Medal']\n",
        "\n",
        "top5players = players_won.sort_values(ascending = False).head()\n",
        "print(top5players)\n",
        "print(\"Plot of Top 5 Players having won the most no. of Medals is as Follows:\\n\")\n",
        "\n",
        "top5players.plot.pie(figsize =(10,5))\n",
        "\n",
        "best_player = top5players[0]\n",
        "print(\"The best player is PHELPS, Michael with \", top5players[0] ,\"medals\")"
      ],
      "execution_count": 75,
      "outputs": [
        {
          "output_type": "stream",
          "name": "stdout",
          "text": [
            "Athlete\n",
            "PHELPS, Michael         22\n",
            "LATYNINA, Larisa        18\n",
            "ANDRIANOV, Nikolay      15\n",
            "MANGIAROTTI, Edoardo    13\n",
            "SHAKHLIN, Boris         13\n",
            "Name: Medal, dtype: int64\n",
            "Plot of Top 5 Players having won the most no. of Medals is as Follows:\n",
            "\n",
            "The best player is PHELPS, Michael with  22 medals\n"
          ]
        },
        {
          "output_type": "display_data",
          "data": {
            "image/png": "[encoded data removed]",
            "text/plain": [
              "<Figure size 720x360 with 1 Axes>"
            ]
          },
          "metadata": {}
        }
      ]
    },
    {
      "cell_type": "markdown",
      "metadata": {
        "id": "_qxG9GMSjgCb"
      },
      "source": [
        "# Q5 - Which player has won most number Gold Medals of medals? (Top 5)"
      ]
    },
    {
      "cell_type": "code",
      "metadata": {
        "colab": {
          "base_uri": "https://localhost:8080/",
          "height": 519
        },
        "id": "qKfiCYPQjjvx",
        "outputId": "639e2ce6-179e-4599-9be3-2b61595a60fa"
      },
      "source": [
        "gold_medal = df[df['Medal'] == 'Gold']\n",
        "players_gold = gold_medal.groupby('Athlete').count()['Medal']\n",
        "\n",
        "top5goldplayers = players_gold.sort_values(ascending = False).head()\n",
        "print(top5goldplayers, \"\\n\")\n",
        "\n",
        "print(\" 'PHELPS, Michael' Player has won most no. of Gold Medals - '18'\\n \")\n",
        "\n",
        "mostss.plot.area(figsize =(10,5))"
      ],
      "execution_count": 76,
      "outputs": [
        {
          "output_type": "stream",
          "name": "stdout",
          "text": [
            "Athlete\n",
            "PHELPS, Michael     18\n",
            "NURMI, Paavo         9\n",
            "SPITZ, Mark          9\n",
            "LEWIS, Carl          9\n",
            "LATYNINA, Larisa     9\n",
            "Name: Medal, dtype: int64 \n",
            "\n",
            " 'PHELPS, Michael' Player has won most no. of Gold Medals - '18'\n",
            " \n"
          ]
        },
        {
          "output_type": "execute_result",
          "data": {
            "text/plain": [
              "<matplotlib.axes._subplots.AxesSubplot at 0x7fa91e7a1050>"
            ]
          },
          "metadata": {},
          "execution_count": 76
        },
        {
          "output_type": "display_data",
          "data": {
            "image/png": "[encoded data removed]",
            "text/plain": [
              "<Figure size 720x360 with 1 Axes>"
            ]
          },
          "metadata": {
            "needs_background": "light"
          }
        }
      ]
    },
    {
      "cell_type": "markdown",
      "metadata": {
        "id": "fmiT0rxMmq7g"
      },
      "source": [
        "# Q6 - In which year India won first Gold Medal in Summer Olympics?"
      ]
    },
    {
      "cell_type": "code",
      "metadata": {
        "colab": {
          "base_uri": "https://localhost:8080/"
        },
        "id": "nbtVzrComuBh",
        "outputId": "7a2014d5-60a0-456a-ef07-9b2b49da0aa4"
      },
      "source": [
        "Years = []\n",
        "gold_medal = df[df['Medal'] == 'Gold']\n",
        "India_year = gold_medal[gold_medal['Country'] =='IND']\n",
        "Years.append(India_year['Year'].unique())\n",
        "\n",
        "print(\"The years in which India won Gold Medal are :\")\n",
        "print(Years, \"\\n\")\n",
        "\n",
        "India_first = gold_medal[gold_medal['Country'] =='IND']['Year'].min()\n",
        "Indian_year = str(India_first)\n",
        "\n",
        "print(\"In the year \"+ Indian_year + \" India won First Gold Medal in Summer Olympics\")\n"
      ],
      "execution_count": 77,
      "outputs": [
        {
          "output_type": "stream",
          "name": "stdout",
          "text": [
            "The years in which India won Gold Medal are :\n",
            "[array([1928, 1932, 1936, 1948, 1952, 1956, 1964, 1980, 2008])] \n",
            "\n",
            "In the year 1928 India won First Gold Medal in Summer Olympics\n"
          ]
        }
      ]
    },
    {
      "cell_type": "markdown",
      "metadata": {
        "id": "4nM-s6pboPzR"
      },
      "source": [
        "# Q7 - Which event is most popular in terms on number of players? (Top 5)"
      ]
    },
    {
      "cell_type": "code",
      "metadata": {
        "colab": {
          "base_uri": "https://localhost:8080/",
          "height": 502
        },
        "id": "_ZlWdzSOoZZ6",
        "outputId": "a4a5b3fc-fea3-41f4-edcf-48b32ac66009"
      },
      "source": [
        "data = []\n",
        "for events in df['Event'].unique():\n",
        "  data.append([events,len(df[df['Event'] == events])])\n",
        "\n",
        "data = pd.DataFrame(data,columns = [\"Event\",\"No_of_players\"])\n",
        "data = data.sort_values(by = \"No_of_players\",ascending = False).head()\n",
        "\n",
        "print(\"The most popular events in terms of players is: \\n\")\n",
        "print(data, \"\\n\")\n",
        "data.plot(x ='Event',y ='No_of_players',kind = 'line',figsize =(10,5),color = 'magenta')\n",
        "\n",
        "\n",
        "#We can use groupby function :\n",
        "#df.groupby(\"Event\").count()[\"Athlete\"].sort_values(ascending = False).head(10).plot.bar(figsize = (15,7))"
      ],
      "execution_count": 88,
      "outputs": [
        {
          "output_type": "stream",
          "name": "stdout",
          "text": [
            "The most popular events in terms of players is: \n",
            "\n",
            "                Event  No_of_players\n",
            "80           Football           1497\n",
            "176            Hockey           1422\n",
            "138  Team Competition           1147\n",
            "327        Basketball           1012\n",
            "337          Handball            973 \n",
            "\n"
          ]
        },
        {
          "output_type": "execute_result",
          "data": {
            "text/plain": [
              "<matplotlib.axes._subplots.AxesSubplot at 0x7fa91fb4dc50>"
            ]
          },
          "metadata": {},
          "execution_count": 88
        },
        {
          "output_type": "display_data",
          "data": {
            "image/png": "[encoded data removed]",
            "text/plain": [
              "<Figure size 720x360 with 1 Axes>"
            ]
          },
          "metadata": {
            "needs_background": "light"
          }
        }
      ]
    },
    {
      "cell_type": "markdown",
      "metadata": {
        "id": "9xPQXp3lreu9"
      },
      "source": [
        "# Q8 - Which sport is having most female Gold Medalists? (Top 5)"
      ]
    },
    {
      "cell_type": "code",
      "metadata": {
        "colab": {
          "base_uri": "https://localhost:8080/",
          "height": 903
        },
        "id": "B_BxqPberu35",
        "outputId": "45068fba-ed78-428d-85d1-ce746a00b03d"
      },
      "source": [
        "gold_medal = df[df['Medal'] == 'Gold']\n",
        "Female_Gold = gold_medal[gold_medal['Gender'] == 'Women']\n",
        "\n",
        "data = []\n",
        "for fem in Female_Gold['Sport'].unique():\n",
        "  data.append([fem, len(Female_Gold[Female_Gold['Sport'] == fem])])\n",
        "\n",
        "data = pd.DataFrame(data,columns = [\"Sport\",\"Female_Gold_Medalists\"])\n",
        "data = data.sort_values(by = \"Female_Gold_Medalists\",ascending = False).head(20)        # To know all Female Gold Medalists remove 20 from .head(20)\n",
        "\n",
        "print(\"Sports having most No. of Female Gold Medalists are as follows :\")\n",
        "\n",
        "print(data, \"\\n\")\n",
        "\n",
        "data = data.sort_values(by = \"Female_Gold_Medalists\",ascending = False).head(5)\n",
        "print(data, \"\\n\")\n",
        "data.plot(x ='Sport',y ='Female_Gold_Medalists',kind = 'bar',figsize =(10,5), color = \"green\")"
      ],
      "execution_count": 106,
      "outputs": [
        {
          "output_type": "stream",
          "name": "stdout",
          "text": [
            "Sports having most No. of Female Gold Medalists are as follows :\n",
            "            Sport  Female_Gold_Medalists\n",
            "4        Aquatics                    589\n",
            "7       Athletics                    389\n",
            "8      Gymnastics                    268\n",
            "14         Rowing                    217\n",
            "11     Volleyball                    166\n",
            "15         Hockey                    144\n",
            "13       Handball                    142\n",
            "12     Basketball                    120\n",
            "6         Fencing                    108\n",
            "21       Football                     86\n",
            "9   Canoe / Kayak                     76\n",
            "22       Softball                     60\n",
            "10     Equestrian                     51\n",
            "16        Cycling                     45\n",
            "17       Shooting                     43\n",
            "20           Judo                     42\n",
            "2         Archery                     39\n",
            "5         Sailing                     38\n",
            "1          Tennis                     38\n",
            "26  Weightlifting                     28 \n",
            "\n",
            "         Sport  Female_Gold_Medalists\n",
            "4     Aquatics                    589\n",
            "7    Athletics                    389\n",
            "8   Gymnastics                    268\n",
            "14      Rowing                    217\n",
            "11  Volleyball                    166 \n",
            "\n"
          ]
        },
        {
          "output_type": "execute_result",
          "data": {
            "text/plain": [
              "<matplotlib.axes._subplots.AxesSubplot at 0x7fa91de6c310>"
            ]
          },
          "metadata": {},
          "execution_count": 106
        },
        {
          "output_type": "display_data",
          "data": {
            "image/png": "[encoded data removed]",
            "text/plain": [
              "<Figure size 720x360 with 1 Axes>"
            ]
          },
          "metadata": {
            "needs_background": "light"
          }
        }
      ]
    }
  ]
}